{
  "nbformat": 4,
  "nbformat_minor": 0,
  "metadata": {
    "colab": {
      "name": "LVRNIDS.ipynb",
      "provenance": [],
      "mount_file_id": "1ZK24KEDYJsaMI-EXRDDvT_JNujdCOjYn",
      "authorship_tag": "ABX9TyMDUkBStK9pmdUMMw+OWEfF",
      "include_colab_link": true
    },
    "kernelspec": {
      "name": "python3",
      "display_name": "Python 3"
    },
    "language_info": {
      "name": "python"
    },
    "accelerator": "GPU",
    "gpuClass": "standard"
  },
  "cells": [
    {
      "cell_type": "markdown",
      "metadata": {
        "id": "view-in-github",
        "colab_type": "text"
      },
      "source": [
        "<a href=\"https://colab.research.google.com/github/Zeng-JiaYu/LVRNIDS/blob/master/LVRNIDS.ipynb\" target=\"_parent\"><img src=\"https://colab.research.google.com/assets/colab-badge.svg\" alt=\"Open In Colab\"/></a>"
      ]
    },
    {
      "cell_type": "code",
      "execution_count": null,
      "metadata": {
        "id": "5bFGTUceS9ez"
      },
      "outputs": [],
      "source": [
        "!git clone https://github.com/Zeng-JiaYu/LVRNIDS.git"
      ]
    },
    {
      "cell_type": "code",
      "source": [
        "%cd /content/LVRNIDS\n",
        "!pip install -r requirements.txt"
      ],
      "metadata": {
        "id": "xAKvtR1ATKf5"
      },
      "execution_count": null,
      "outputs": []
    },
    {
      "cell_type": "code",
      "source": [
        "!cp /content/drive/MyDrive/LVRNIDS/upsampling.py /usr/local/lib/python3.7/dist-packages/torch/nn/modules/upsampling.py"
      ],
      "metadata": {
        "id": "JidQNSo7U-yw"
      },
      "execution_count": null,
      "outputs": []
    },
    {
      "cell_type": "code",
      "source": [
        "%cd /content/LVRNIDS/application/main\n",
        "!python app_track.py"
      ],
      "metadata": {
        "id": "7kYvMp_BTbyn"
      },
      "execution_count": null,
      "outputs": []
    }
  ]
}