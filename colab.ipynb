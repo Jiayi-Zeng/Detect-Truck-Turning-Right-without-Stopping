{
  "cells": [
    {
      "attachments": {},
      "cell_type": "markdown",
      "metadata": {
        "colab_type": "text",
        "id": "view-in-github"
      },
      "source": [
        "<a href=\"https://github.com/Jiayi-Zeng/Detect-Truck-Turning-Right-without-Stopping/blob/master/colab.ipynb\" target=\"_parent\"><img src=\"https://colab.research.google.com/assets/colab-badge.svg\" alt=\"Open In Colab\"/></a>"
      ]
    },
    {
      "cell_type": "code",
      "execution_count": null,
      "metadata": {
        "id": "5bFGTUceS9ez"
      },
      "outputs": [],
      "source": [
        "!git clone https://github.com/Zeng-JiaYu/LVRNIDS.git"
      ]
    },
    {
      "cell_type": "code",
      "execution_count": null,
      "metadata": {
        "id": "xAKvtR1ATKf5"
      },
      "outputs": [],
      "source": [
        "%cd /content/LVRNIDS\n",
        "!pip install -r requirements.txt"
      ]
    },
    {
      "cell_type": "code",
      "execution_count": null,
      "metadata": {
        "id": "JidQNSo7U-yw"
      },
      "outputs": [],
      "source": [
        "!cp /content/drive/MyDrive/LVRNIDS/upsampling.py /usr/local/lib/python3.7/dist-packages/torch/nn/modules/upsampling.py"
      ]
    },
    {
      "cell_type": "code",
      "execution_count": null,
      "metadata": {
        "id": "7kYvMp_BTbyn"
      },
      "outputs": [],
      "source": [
        "%cd /content/LVRNIDS/application/main\n",
        "!python app_track.py"
      ]
    }
  ],
  "metadata": {
    "accelerator": "GPU",
    "colab": {
      "authorship_tag": "ABX9TyMDUkBStK9pmdUMMw+OWEfF",
      "include_colab_link": true,
      "mount_file_id": "1ZK24KEDYJsaMI-EXRDDvT_JNujdCOjYn",
      "name": "LVRNIDS.ipynb",
      "provenance": []
    },
    "gpuClass": "standard",
    "kernelspec": {
      "display_name": "Python 3",
      "name": "python3"
    },
    "language_info": {
      "name": "python",
      "version": "3.9.13"
    }
  },
  "nbformat": 4,
  "nbformat_minor": 0
}
